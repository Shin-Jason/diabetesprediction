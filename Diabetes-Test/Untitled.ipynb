{
 "cells": [
  {
   "cell_type": "code",
   "execution_count": null,
   "id": "6193bd8e",
   "metadata": {},
   "outputs": [],
   "source": [
    "!sqlite3 diabetes.db"
   ]
  },
  {
   "cell_type": "code",
   "execution_count": null,
   "id": "1c63ea30",
   "metadata": {},
   "outputs": [],
   "source": [
    "CREATE TABLE diabetes (\n",
    "  Pregnancies INT,\n",
    "  Glucose INT,\n",
    "  BloodPressure INT,\n",
    "  SkinThickness INT,\n",
    "  Insulin INT,\n",
    "  BMI FLOAT,\n",
    "  DiabetesPedigreeFunction FLOAT,\n",
    "  Age INT,\n",
    "  Outcome INT\n",
    ");"
   ]
  },
  {
   "cell_type": "code",
   "execution_count": null,
   "id": "54093c22",
   "metadata": {},
   "outputs": [],
   "source": [
    ".mode csv\n",
    ".import diabetes.csv diabetes"
   ]
  },
  {
   "cell_type": "code",
   "execution_count": null,
   "id": "57cc5a2d",
   "metadata": {},
   "outputs": [],
   "source": [
    "SELECT * FROM diabetes LIMIT 10;"
   ]
  },
  {
   "cell_type": "code",
   "execution_count": null,
   "id": "3c45771c",
   "metadata": {},
   "outputs": [],
   "source": []
  }
 ],
 "metadata": {
  "kernelspec": {
   "display_name": "Python 3 (ipykernel)",
   "language": "python",
   "name": "python3"
  },
  "language_info": {
   "codemirror_mode": {
    "name": "ipython",
    "version": 3
   },
   "file_extension": ".py",
   "mimetype": "text/x-python",
   "name": "python",
   "nbconvert_exporter": "python",
   "pygments_lexer": "ipython3",
   "version": "3.10.9"
  }
 },
 "nbformat": 4,
 "nbformat_minor": 5
}
